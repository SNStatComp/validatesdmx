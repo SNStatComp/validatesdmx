{
 "cells": [
  {
   "cell_type": "markdown",
   "metadata": {},
   "source": [
    "### How to query the Eurostat SDMX registry for DSDs and codelists:\n",
    "**ValidatFOSS2** project\\\n",
    "Olav ten Bosch, Mark van der Loo, Statistics Netherlands\\\n",
    "20210513"
   ]
  },
  {
   "cell_type": "code",
   "execution_count": null,
   "metadata": {},
   "outputs": [],
   "source": [
    "import requests                  # for issing HTTP requests\n",
    "#import json                      # for processing the json data\n",
    "import lxml\n",
    "from lxml import etree"
   ]
  },
  {
   "cell_type": "markdown",
   "metadata": {},
   "source": [
    "- Viewer: https://webgate.ec.europa.eu/sdmxregistry/\n",
    "- Documentation SDMX2.1 REST API: https://github.com/sdmx-twg/sdmx-rest"
   ]
  },
  {
   "cell_type": "code",
   "execution_count": null,
   "metadata": {},
   "outputs": [],
   "source": [
    "# Settings for the ESTAT SDMX registry API:\n",
    "endpoint = 'https://ec.europa.eu/tools/cspa_services_global/sdmxregistry/rest/'"
   ]
  },
  {
   "cell_type": "code",
   "execution_count": null,
   "metadata": {},
   "outputs": [],
   "source": [
    "# Retrieve a specific codelist:\n",
    "resource = 'codelist'\n",
    "agencyID = 'ESTAT'\n",
    "resourceID = 'CL_ACTIVITY'\n",
    "version = 'latest'\n",
    "\n",
    "r1 = requests.get(f\"{endpoint}{resource}/{agencyID}/{resourceID}/{version}\")\n",
    "print(r1.url, r1.status_code)\n",
    "print(r1.text)"
   ]
  },
  {
   "cell_type": "code",
   "execution_count": null,
   "metadata": {},
   "outputs": [],
   "source": [
    "# Retrieve a specific datastructure including codelists:\n",
    "resource = 'datastructure'\n",
    "agencyID = 'ESTAT'\n",
    "resourceID = 'STSALL'\n",
    "version = 'latest'\n",
    "\n",
    "r2 = requests.get(f\"{endpoint}{resource}/{agencyID}/{resourceID}/{version}\")\n",
    "print(r2.url, r2.status_code)\n",
    "print(r2.text)\n"
   ]
  }
 ],
 "metadata": {
  "kernelspec": {
   "display_name": "Python 3",
   "language": "python",
   "name": "python3"
  },
  "language_info": {
   "codemirror_mode": {
    "name": "ipython",
    "version": 3
   },
   "file_extension": ".py",
   "mimetype": "text/x-python",
   "name": "python",
   "nbconvert_exporter": "python",
   "pygments_lexer": "ipython3",
   "version": "3.8.5"
  }
 },
 "nbformat": 4,
 "nbformat_minor": 4
}

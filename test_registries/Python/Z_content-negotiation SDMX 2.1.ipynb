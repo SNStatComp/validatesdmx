{
 "cells": [
  {
   "cell_type": "code",
   "execution_count": 4,
   "metadata": {},
   "outputs": [],
   "source": [
    "import requests                  # for issueing HTTP requests\n",
    "import json                      # for processing json data"
   ]
  },
  {
   "cell_type": "code",
   "execution_count": null,
   "metadata": {},
   "outputs": [],
   "source": [
    "# SDMX formats according to https://github.com/sdmx-twg/sdmx-rest/blob/master/v2_1/ws/rest/docs/rest_cheat_sheet.pdf?raw=true\n",
    "formats = {\n",
    "    'SDMX-ML Generic Data': 'application/vnd.sdmx.genericdata+xml;version=2.1',\n",
    "    'SDMX-ML StructureSpecific Data': 'application/vnd.sdmx.structurespecificdata+xml;version=2.1',\n",
    "    'SDMX-JSON Data': 'application/vnd.sdmx.data+json;version=1.0.0',\n",
    "    'SDMX-CSV Data': 'application/vnd.sdmx.data+csv;version=1.0.0',\n",
    "    'SDMX-ML Structure': 'application/vnd.sdmx.structure+xml;version=2.1',\n",
    "    'SDMX-JSON Structure': 'application/vnd.sdmx.structure+json;version=1.0.0',\n",
    "    'SDMX-ML Schemas': 'application/vnd.sdmx.schema+xml;version=2.1',\n",
    "    'SDMX-ML Generic Metadata': 'application/vnd.sdmx.genericmetadata+xml;version=2.1',\n",
    "    'SDMX-ML StructureSpecific Meta': 'application/vnd.sdmx.structurespecificmetadata+xml;version=2.1'\n",
    "}\n",
    "headers = headers3"
   ]
  }
 ],
 "metadata": {
  "kernelspec": {
   "display_name": "Python 3",
   "language": "python",
   "name": "python3"
  },
  "language_info": {
   "codemirror_mode": {
    "name": "ipython",
    "version": 3
   },
   "file_extension": ".py",
   "mimetype": "text/x-python",
   "name": "python",
   "nbconvert_exporter": "python",
   "pygments_lexer": "ipython3",
   "version": "3.8.5"
  }
 },
 "nbformat": 4,
 "nbformat_minor": 4
}

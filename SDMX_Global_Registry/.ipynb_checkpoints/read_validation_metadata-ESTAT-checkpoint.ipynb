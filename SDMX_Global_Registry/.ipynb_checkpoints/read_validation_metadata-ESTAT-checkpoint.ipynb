{
 "cells": [
  {
   "cell_type": "markdown",
   "metadata": {},
   "source": [
    "### How to query the Eurostat SDMX registry for DSDs and codelists:\n",
    "-- Olav ten Bosch, 20210508"
   ]
  },
  {
   "cell_type": "code",
   "execution_count": 1,
   "metadata": {},
   "outputs": [],
   "source": [
    "import requests                  # for issueing HTTP requests\n",
    "import json                      # for processing the json data"
   ]
  },
  {
   "cell_type": "code",
   "execution_count": 2,
   "metadata": {},
   "outputs": [],
   "source": [
    "# Settings for the SDMX global registry API:\n",
    "# Note: the 'format' querystring parameter is not standard SDMX 2.1 but a convenience from registry.sdmx.org\n",
    "endpoint = 'http://ec.europa.eu/eurostat/SDMX/diss-web/rest/'\n",
    "params = {'format': 'sdmx-json', 'detail': 'full', 'references': 'none'}"
   ]
  },
  {
   "cell_type": "code",
   "execution_count": 3,
   "metadata": {},
   "outputs": [],
   "source": [
    "# Some utility functions to select the elements useful for validation:\n",
    "def urn_short(urn):\n",
    "    return urn.partition(\"=\")[2]\n",
    "    \n",
    "def DSD_el(el):\n",
    "    s = urn_short(el['urn'])\n",
    "    sep = ' '\n",
    "    \n",
    "    representation = el['representation']\n",
    "    if \"textFormat\" in representation:\n",
    "        textformat = representation['textFormat']\n",
    "        s += sep+textformat['textType']\n",
    "        if \"maxLength\" in textformat:\n",
    "            s += sep+str(textformat['maxLength'])\n",
    "    elif \"representation\" in el:\n",
    "        s += sep+urn_short(representation['representation'])\n",
    "    else:\n",
    "        s += sep+el['id']\n",
    "        \n",
    "    if \"mandatory\" in el and el[\"mandatory\"] == True: \n",
    "        s += sep+'mandatory'\n",
    "    return s"
   ]
  },
  {
   "cell_type": "code",
   "execution_count": 15,
   "metadata": {},
   "outputs": [
    {
     "name": "stdout",
     "output_type": "stream",
     "text": [
      "http://ec.europa.eu/eurostat/SDMX/diss-web/rest/datastructure/ESTAT/DSD_nama_10_gdp/latest 406\n",
      "Not Acceptable\n"
     ]
    }
   ],
   "source": [
    "# Retrieve a specific codelist:\n",
    "resource = 'datastructure'\n",
    "agencyID = 'ESTAT'\n",
    "resourceID = 'DSD_nama_10_gdp'\n",
    "version = 'latest'\n",
    "\n",
    "r1 = requests.get(f\"{endpoint}{resource}/{agencyID}/{resourceID}/{version}\", headers=headers3)\n",
    "print(r1.url, r1.status_code)\n",
    "print(r1.text)\n",
    "\n",
    "\n"
   ]
  },
  {
   "cell_type": "code",
   "execution_count": 5,
   "metadata": {},
   "outputs": [
    {
     "name": "stderr",
     "output_type": "stream",
     "text": [
      "IOPub data rate exceeded.\n",
      "The notebook server will temporarily stop sending output\n",
      "to the client in order to avoid crashing it.\n",
      "To change this limit, set the config variable\n",
      "`--NotebookApp.iopub_data_rate_limit`.\n",
      "\n",
      "Current values:\n",
      "NotebookApp.iopub_data_rate_limit=1000000.0 (bytes/sec)\n",
      "NotebookApp.rate_limit_window=3.0 (secs)\n",
      "\n"
     ]
    }
   ],
   "source": [
    "print(r1.text)"
   ]
  },
  {
   "cell_type": "code",
   "execution_count": null,
   "metadata": {},
   "outputs": [],
   "source": [
    "# Print codelist name, version and all codes and names:\n",
    "codelist = json.loads(r1.text)[\"Codelist\"][0]\n",
    "print(urn_short(codelist['urn']))\n",
    "for item in codelist['items']:\n",
    "    print(item['id'], item['names'][0]['value'])"
   ]
  },
  {
   "cell_type": "code",
   "execution_count": 14,
   "metadata": {},
   "outputs": [
    {
     "name": "stdout",
     "output_type": "stream",
     "text": [
      "https://registry.sdmx.org/ws/public/sdmxapi/rest/datastructure/ESTAT/CPI/latest?format=sdmx-json&detail=full&references=none 200\n",
      "ESTAT:CPI(1.2)\n",
      "primaryMeasure:\n",
      "ESTAT:CPI(1.2).OBS_VALUE Double\n",
      "Dimensions and codelists:\n",
      "ESTAT:CPI(1.2).FREQ SDMX:CL_FREQ(2.0)\n",
      "ESTAT:CPI(1.2).SEASONAL_ADJUST ESTAT:CL_SEASON_ADJUST(1.0)\n",
      "ESTAT:CPI(1.2).REF_AREA IMF:CL_AREA(1.13)\n",
      "ESTAT:CPI(1.2).IND_TYPE ESTAT:CL_IND_TYPE(1.1)\n",
      "ESTAT:CPI(1.2).IDX_TYPE ESTAT:CL_IDX_TYPE(1.0)\n",
      "ESTAT:CPI(1.2).BASE_PER ObservationalTimePeriod\n",
      "ESTAT:CPI(1.2).ITEM ESTAT:CL_ITEM_PRICE(1.1)\n",
      "ESTAT:CPI(1.2).COVERAGE_GEO ESTAT:CL_COVERAGE_GEO(1.0)\n",
      "ESTAT:CPI(1.2).COVERAGE_POP ESTAT:CL_COVERAGE_POP(1.0)\n",
      "ESTAT:CPI(1.2).UNIT_MEASURE IMF:CL_UNIT(1.14)\n",
      "ESTAT:CPI(1.2).TRANSFORMATION ESTAT:CL_TRANSFORMATION(1.4)\n",
      "ESTAT:CPI(1.2).CUST_BREAKDOWN ESTAT:CL_CUST_BREAKDOWN(1.0)\n",
      "ESTAT:CPI(1.2).TIME_PERIOD ObservationalTimePeriod\n",
      "Attributes:\n",
      "ESTAT:CPI(1.2).DISS_ORG IMF:CL_ORGANISATION(1.10)\n",
      "ESTAT:CPI(1.2).COMPILING_ORG IMF:CL_ORGANISATION(1.10)\n",
      "ESTAT:CPI(1.2).DATA_COMP String 4000\n",
      "ESTAT:CPI(1.2).PRE_BREAK_VALUE Double\n",
      "ESTAT:CPI(1.2).LAST_UPDATE DateTime\n",
      "ESTAT:CPI(1.2).UNIT_MULT Integer mandatory\n",
      "ESTAT:CPI(1.2).TITLE String 200\n",
      "ESTAT:CPI(1.2).TIME_PER_COLLECT IMF:CL_TIME_COLLECT(1.0)\n",
      "ESTAT:CPI(1.2).TIME_FORMAT SDMX:CL_TIME_FORMAT(1.0) mandatory\n",
      "ESTAT:CPI(1.2).OBS_STATUS ESTAT:CL_OBS_STATUS(2.2) mandatory\n",
      "ESTAT:CPI(1.2).DECIMALS Integer mandatory\n",
      "ESTAT:CPI(1.2).CONF_STATUS SDMX:CL_CONF_STATUS(1.2)\n",
      "ESTAT:CPI(1.2).COMMENT_TS String 1050\n",
      "ESTAT:CPI(1.2).COMMENT_OBS String 4000\n",
      "ESTAT:CPI(1.2).COMMENT_DSET String 1050\n",
      "ESTAT:CPI(1.2).REPYEAREND MonthDay\n",
      "ESTAT:CPI(1.2).REPYEARSTART MonthDay\n",
      "ESTAT:CPI(1.2).EMBARGO_TIME DateTime\n",
      "ESTAT:CPI(1.2).CUST_BREAKDOWN_LB String\n",
      "ESTAT:CPI(1.2).IND_BASE_PER ObservationalTimePeriod\n",
      "ESTAT:CPI(1.2).BASE_PER_START ObservationalTimePeriod\n",
      "ESTAT:CPI(1.2).BASE_PER_END ObservationalTimePeriod\n"
     ]
    }
   ],
   "source": [
    "# Retrieve a specific DSD (specific version or the latest):\n",
    "resource = 'datastructure'\n",
    "agencyID = 'ESTAT'\n",
    "resourceID = 'CPI'\n",
    "version = 'latest' # 20210508: results in version '1.2'\n",
    "\n",
    "r2 = requests.get(f\"{endpoint}{resource}/{agencyID}/{resourceID}/{version}\", params = params)\n",
    "print(r2.url, r1.status_code)\n",
    "#print(r2.text)\n",
    "\n",
    "# Print some elements of DSD important for validation:\n",
    "structure = json.loads(r2.text)[\"DataStructure\"][0]\n",
    "print(urn_short(structure['urn']))\n",
    "print('primaryMeasure:')\n",
    "print(DSD_el(structure['primaryMeasure']))\n",
    "print('Dimensions and codelists:')\n",
    "for dimension in structure['dimensionList']['dimensions']:\n",
    "    print(DSD_el(dimension))\n",
    "print('Attributes:')\n",
    "for attribute in structure['attributeList']['attributes']:\n",
    "    print(DSD_el(attribute))"
   ]
  },
  {
   "cell_type": "code",
   "execution_count": null,
   "metadata": {},
   "outputs": [],
   "source": []
  },
  {
   "cell_type": "code",
   "execution_count": null,
   "metadata": {},
   "outputs": [],
   "source": []
  },
  {
   "cell_type": "code",
   "execution_count": null,
   "metadata": {},
   "outputs": [],
   "source": []
  },
  {
   "cell_type": "code",
   "execution_count": 14,
   "metadata": {},
   "outputs": [],
   "source": [
    "# We dont use this, keep here for reference:\n",
    "# SDMX formats according to https://github.com/sdmx-twg/sdmx-rest/blob/master/v2_1/ws/rest/docs/rest_cheat_sheet.pdf?raw=true\n",
    "formats = {\n",
    "    'SDMX-ML Generic Data': 'application/vnd.sdmx.genericdata+xml;version=2.1',\n",
    "    'SDMX-ML StructureSpecific Data': 'application/vnd.sdmx.structurespecificdata+xml;version=2.1',\n",
    "    'SDMX-JSON Data': 'application/vnd.sdmx.data+json;version=1.0.0',\n",
    "    'SDMX-CSV Data': 'application/vnd.sdmx.data+csv;version=1.0.0',\n",
    "    'SDMX-ML Structure': 'application/vnd.sdmx.structure+xml;version=2.1',\n",
    "    'SDMX-JSON Structure': 'application/vnd.sdmx.structure+json;version=1.0.0',\n",
    "    'SDMX-ML Schemas': 'application/vnd.sdmx.schema+xml;version=2.1',\n",
    "    'SDMX-ML Generic Metadata': 'application/vnd.sdmx.genericmetadata+xml;version=2.1',\n",
    "    'SDMX-ML StructureSpecific Meta': 'application/vnd.sdmx.structurespecificmetadata+xml;version=2.1'\n",
    "}\n",
    "#Only these three give a 200, the rest a 406 for registry.sdmx.org\n",
    "headers1 = {'Accept': formats[\"SDMX-ML StructureSpecific Data\"]}\n",
    "headers2 = {'Accept': formats[\"SDMX-JSON Data\"]}\n",
    "headers3 = {'Accept': formats[\"SDMX-JSON Structure\"]}\n",
    "headers = headers2\n",
    "# It appears that content-negation is not needed for the global registry, we can use a format querystring var\n",
    "# We keep it here for reference"
   ]
  }
 ],
 "metadata": {
  "kernelspec": {
   "display_name": "Python 3",
   "language": "python",
   "name": "python3"
  },
  "language_info": {
   "codemirror_mode": {
    "name": "ipython",
    "version": 3
   },
   "file_extension": ".py",
   "mimetype": "text/x-python",
   "name": "python",
   "nbconvert_exporter": "python",
   "pygments_lexer": "ipython3",
   "version": "3.8.5"
  }
 },
 "nbformat": 4,
 "nbformat_minor": 4
}

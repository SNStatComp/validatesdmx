{
 "cells": [
  {
   "cell_type": "markdown",
   "metadata": {},
   "source": [
    "### How to query the SDMX global registry for DSDs and codelists:\n",
    "**ValidatFOSS2** project\\\n",
    "Olav ten Bosch, Mark van der Loo, Statistics Netherlands\\\n",
    "20210513"
   ]
  },
  {
   "cell_type": "code",
   "execution_count": null,
   "metadata": {},
   "outputs": [],
   "source": [
    "import requests                  # for issueing HTTP requests\n",
    "import json                      # for processing json data"
   ]
  },
  {
   "cell_type": "markdown",
   "metadata": {},
   "source": [
    "- Viewer: https://registry.sdmx.org/overview.html\n",
    "- Web service playground: https://registry.sdmx.org/webservice/structure.html"
   ]
  },
  {
   "cell_type": "code",
   "execution_count": null,
   "metadata": {},
   "outputs": [],
   "source": [
    "# Settings for the SDMX global registry API:\n",
    "endpoint = 'https://registry.sdmx.org/ws/public/sdmxapi/rest/'\n",
    "\n",
    "# Note: the 'format' querystring parameter that we use below is not standard SDMX 2.1 but a convenience from registry.sdmx.org"
   ]
  },
  {
   "cell_type": "code",
   "execution_count": null,
   "metadata": {},
   "outputs": [],
   "source": [
    "# Some utility functions to select the elements useful for validation:\n",
    "def urn_short(urn):\n",
    "    return urn.partition(\"=\")[2]\n",
    "    \n",
    "def DSD_el(el):\n",
    "    s = urn_short(el['urn'])\n",
    "    sep = ' '\n",
    "    \n",
    "    representation = el['representation']\n",
    "    if \"textFormat\" in representation:\n",
    "        textformat = representation['textFormat']\n",
    "        s += sep+textformat['textType']\n",
    "        if \"maxLength\" in textformat:\n",
    "            s += sep+str(textformat['maxLength'])\n",
    "    elif \"representation\" in el:\n",
    "        s += sep+urn_short(representation['representation'])\n",
    "    else:\n",
    "        s += sep+el['id']\n",
    "        \n",
    "    if \"mandatory\" in el and el[\"mandatory\"] == True: \n",
    "        s += sep+'mandatory'\n",
    "    return s"
   ]
  },
  {
   "cell_type": "code",
   "execution_count": null,
   "metadata": {},
   "outputs": [],
   "source": [
    "# Retrieve a specific codelist in json:\n",
    "resource = 'codelist'\n",
    "agencyID = 'ESTAT'\n",
    "resourceID = 'CL_ACTIVITY'\n",
    "version = 'latest'  # 20210508: results in'version '1.7'\n",
    "\n",
    "r1 = requests.get(f\"{endpoint}{resource}/{agencyID}/{resourceID}/{version}\", params = {'format': 'sdmx-json'})\n",
    "print(r1.url, r1.status_code)\n",
    "#print(r1.text)\n",
    "\n",
    "# Print codelist name, version and all codes and names:\n",
    "codelist = json.loads(r1.text)[\"Codelist\"][0]\n",
    "print(urn_short(codelist['urn']))\n",
    "for item in codelist['items']:\n",
    "    print(item['id'], item['names'][0]['value'])\n"
   ]
  },
  {
   "cell_type": "code",
   "execution_count": null,
   "metadata": {},
   "outputs": [],
   "source": [
    "# Retrieve same codelist in xml (sdmx-ml):\n",
    "resource = 'codelist'\n",
    "agencyID = 'ESTAT'\n",
    "resourceID = 'CL_ACTIVITY'\n",
    "version = 'latest'  # 20210508: results in'version '1.7'\n",
    "\n",
    "r2 = requests.get(f\"{endpoint}{resource}/{agencyID}/{resourceID}/{version}\")\n",
    "print(r2.url, r2.status_code)\n",
    "print(r2.text)"
   ]
  },
  {
   "cell_type": "code",
   "execution_count": null,
   "metadata": {},
   "outputs": [],
   "source": [
    "# Retrieve a specific DSD (specific version or the latest) in SDMX-JSON:\n",
    "resource = 'datastructure'\n",
    "agencyID = 'ESTAT'\n",
    "resourceID = 'CPI'\n",
    "version = 'latest' # 20210508: results in version '1.2'\n",
    "\n",
    "r3 = requests.get(f\"{endpoint}{resource}/{agencyID}/{resourceID}/{version}\", params = {'format': 'sdmx-json'})\n",
    "print(r3.url, r3.status_code)\n",
    "#print(r3.text)\n",
    "\n",
    "# Print some elements of DSD important for validation:\n",
    "structure = json.loads(r3.text)[\"DataStructure\"][0]\n",
    "print(urn_short(structure['urn']))\n",
    "print('primaryMeasure:')\n",
    "print(DSD_el(structure['primaryMeasure']))\n",
    "print('Dimensions and codelists:')\n",
    "for dimension in structure['dimensionList']['dimensions']:\n",
    "    print(DSD_el(dimension))\n",
    "print('Attributes:')\n",
    "for attribute in structure['attributeList']['attributes']:\n",
    "    print(DSD_el(attribute))"
   ]
  },
  {
   "cell_type": "code",
   "execution_count": null,
   "metadata": {},
   "outputs": [],
   "source": [
    "# Retrieve a specific DSD (specific version or the latest) in XML (SDMX-ML):\n",
    "resource = 'datastructure'\n",
    "agencyID = 'ESTAT'\n",
    "resourceID = 'CPI'\n",
    "version = 'latest' # 20210508: results in version '1.2'\n",
    "\n",
    "r4 = requests.get(f\"{endpoint}{resource}/{agencyID}/{resourceID}/{version}\")\n",
    "print(r4.url, r4.status_code)\n",
    "print(r4.text)\n"
   ]
  }
 ],
 "metadata": {
  "kernelspec": {
   "display_name": "Python 3",
   "language": "python",
   "name": "python3"
  },
  "language_info": {
   "codemirror_mode": {
    "name": "ipython",
    "version": 3
   },
   "file_extension": ".py",
   "mimetype": "text/x-python",
   "name": "python",
   "nbconvert_exporter": "python",
   "pygments_lexer": "ipython3",
   "version": "3.8.5"
  }
 },
 "nbformat": 4,
 "nbformat_minor": 4
}
